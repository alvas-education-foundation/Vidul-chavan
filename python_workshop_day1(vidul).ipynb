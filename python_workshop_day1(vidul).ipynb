{
  "nbformat": 4,
  "nbformat_minor": 0,
  "metadata": {
    "kernelspec": {
      "display_name": "Python 3",
      "language": "python",
      "name": "python3"
    },
    "language_info": {
      "codemirror_mode": {
        "name": "ipython",
        "version": 3
      },
      "file_extension": ".py",
      "mimetype": "text/x-python",
      "name": "python",
      "nbconvert_exporter": "python",
      "pygments_lexer": "ipython3",
      "version": "3.6.5"
    },
    "colab": {
      "name": "python workshop day1(vidul).ipynb",
      "provenance": [],
      "collapsed_sections": [],
      "include_colab_link": true
    }
  },
  "cells": [
    {
      "cell_type": "markdown",
      "metadata": {
        "id": "view-in-github",
        "colab_type": "text"
      },
      "source": [
        "<a href=\"https://colab.research.google.com/github/alvas-education-foundation/vidul-chavan/blob/master/python_workshop_day1(vidul).ipynb\" target=\"_parent\"><img src=\"https://colab.research.google.com/assets/colab-badge.svg\" alt=\"Open In Colab\"/></a>"
      ]
    },
    {
      "cell_type": "code",
      "metadata": {
        "id": "WX49AAswycd9",
        "colab_type": "code",
        "colab": {},
        "outputId": "ef9b0fa4-3087-40a2-fd59-85c8c6b56b38"
      },
      "source": [
        "#1. Find the compound interest for the given p,n,r  (formula : p(1+n*r/100)n )\n",
        "p=int(input('Enter the p value'))\n",
        "n=int(input('Enter the n value'))\n",
        "r=int(input('Enter the r value'))\n",
        "CI=p*(1+n*r/100)**n\n",
        "print(CI)"
      ],
      "execution_count": null,
      "outputs": [
        {
          "output_type": "stream",
          "text": [
            "Enter the p value500\n",
            "Enter the n value10\n",
            "Enter the r value8\n",
            "178523.36133120005\n"
          ],
          "name": "stdout"
        }
      ]
    },
    {
      "cell_type": "markdown",
      "metadata": {
        "id": "4JrxTTfwydba",
        "colab_type": "text"
      },
      "source": [
        ""
      ]
    },
    {
      "cell_type": "code",
      "metadata": {
        "id": "4mYgiMPYyceI",
        "colab_type": "code",
        "colab": {},
        "outputId": "a5551b02-30ea-4050-f0e2-84bf4ecf4a4a"
      },
      "source": [
        "#2. Convert centegrade to farenheit  ( f= 9/5*c+32) \n",
        "c=float(input('Enter the of c'))\n",
        "f=float(9/5*c+32)\n",
        "print(f)"
      ],
      "execution_count": null,
      "outputs": [
        {
          "output_type": "stream",
          "text": [
            "Enter the of c60\n",
            "140.0\n"
          ],
          "name": "stdout"
        }
      ]
    },
    {
      "cell_type": "code",
      "metadata": {
        "id": "PC0r4VJJyceO",
        "colab_type": "code",
        "colab": {},
        "outputId": "97f42e8e-4c2b-4bdb-999c-0f59b5bf5adc"
      },
      "source": [
        "#3. Find the greater of two nos \n",
        "a=int(input('Enter the a value'))\n",
        "b=int(input('Enter the b value'))\n",
        "if(a>>b):\n",
        "    print('{0} is greater than {1}'.format(a,b))\n",
        "else:\n",
        "    print('{0} is greater than {1}'.format(b,a))"
      ],
      "execution_count": null,
      "outputs": [
        {
          "output_type": "stream",
          "text": [
            "Enter the a value5\n",
            "Enter the b value3\n",
            "3 is greater than 5\n"
          ],
          "name": "stdout"
        }
      ]
    },
    {
      "cell_type": "code",
      "metadata": {
        "id": "2BRQEUhzyceU",
        "colab_type": "code",
        "colab": {},
        "outputId": "2e1b661d-e1ff-4258-ea1d-4ea2242cd918"
      },
      "source": [
        "#4. Write a program for finding surface areas of cylinder and cone (2*PI*r*h, 1/3*PI*r*r*h) using function.\n",
        "def cy(r,h):\n",
        "    return 2*3.14*r*h\n",
        "\n",
        "def co(r,h):\n",
        "    return 1/3*3.14*r*r*h\n",
        "r=int(input('Enter the r value'))\n",
        "h=int(input('Enter the h value'))\n",
        "\n",
        "print('surface area of cylinder is')\n",
        "print(cy(r,h))\n",
        "\n",
        "print('surface area of cone is')\n",
        "print(co(r,h))\n",
        "\n"
      ],
      "execution_count": null,
      "outputs": [
        {
          "output_type": "stream",
          "text": [
            "Enter the r value5\n",
            "Enter the h value6\n",
            "surface area of cylinder is\n",
            "188.4\n",
            "surface area of cone is\n",
            "157.0\n"
          ],
          "name": "stdout"
        }
      ]
    },
    {
      "cell_type": "code",
      "metadata": {
        "id": "c9BdEL7cyceZ",
        "colab_type": "code",
        "colab": {},
        "outputId": "828cbe7a-1e9f-4716-c950-1127b5d951bd"
      },
      "source": [
        "#5. Find the greatest of four nos (using and operator)   using function.\n",
        "def great(a,b,c,d):\n",
        "    if(a>=b and a>=c and a>=d):\n",
        "        return a\n",
        "    elif(b>=a and b>=c and b>=d):\n",
        "        return b\n",
        "    elif(c>=a and c>=b and c>=d):\n",
        "        return c\n",
        "    else:\n",
        "        return d\n",
        "a=int(input('Enter the 1st name '))\n",
        "b=int(input('Enter the 2nd name '))\n",
        "c=int(input('Enter the 3rd name '))\n",
        "d=int(input('Enter the 4th name '))\n",
        "print('greater no is ')\n",
        "print(great(a,b,c,d))\n"
      ],
      "execution_count": null,
      "outputs": [
        {
          "output_type": "stream",
          "text": [
            "Enter the 1st name 7\n",
            "Enter the 2nd name 8\n",
            "Enter the 3rd name 9\n",
            "Enter the 4th name 1\n",
            "greater no is \n",
            "9\n"
          ],
          "name": "stdout"
        }
      ]
    },
    {
      "cell_type": "code",
      "metadata": {
        "id": "LW_wxldPycee",
        "colab_type": "code",
        "colab": {},
        "outputId": "81da4bea-556a-4b9b-cd9a-d987a433663a"
      },
      "source": [
        "#6. Write a menu program to find Area-Circle, Circumference-Circle, Area- Square, Circumference-Square using functions with  menu choice\n",
        "loop =1\n",
        "choice =1\n",
        "\n",
        "def ac(r):\n",
        "    return 3.142*r*r\n",
        "def cc(r):\n",
        "    return 2*3.142*r\n",
        "def as1(r):\n",
        "    return r*r\n",
        "def sc1(r):\n",
        "    return 4*r \n",
        "\n",
        "while loop == 1:\n",
        "    # Print what options you have\n",
        " \n",
        "    print (\"your options are:\")\n",
        "    print (\" \")\n",
        "    print(\"1) Area of circle\")\n",
        "    print(\"2) circumference of a circle\")\n",
        "    print (\"3) Area of square\")\n",
        "    print (\"4) circ of square\")\n",
        "    print(\" \")\n",
        "    \n",
        "    choice = int(input(\"Choose your option: \"))\n",
        "\n",
        "    if choice == 1:\n",
        "        r = int(input(\"Enter r value: \"))\n",
        "        \n",
        "        print (ac(r))\n",
        "    elif choice == 2:\n",
        "        r = int(input(\"Enter r value: \"))\n",
        "        print (as1(r))\n",
        "        \n",
        "    elif choice == 3:\n",
        "        r = int(input(\"Enter r value: \"))\n",
        "        print (cc(r))\n",
        "\n",
        "    elif choice == 4:\n",
        "        r = int(input(\"Enter r value: \"))\n",
        "        print (sc1(r))\n",
        "    else:\n",
        "        loop = 0"
      ],
      "execution_count": null,
      "outputs": [
        {
          "output_type": "stream",
          "text": [
            "your options are:\n",
            " \n",
            "1) Area of circle\n",
            "2) circumference of a circle\n",
            "3) Area of square\n",
            "4) circ of square\n",
            " \n",
            "Choose your option: 1\n",
            "Enter r value: 5\n",
            "78.55\n",
            "your options are:\n",
            " \n",
            "1) Area of circle\n",
            "2) circumference of a circle\n",
            "3) Area of square\n",
            "4) circ of square\n",
            " \n"
          ],
          "name": "stdout"
        }
      ]
    },
    {
      "cell_type": "code",
      "metadata": {
        "id": "SIy0XESRycek",
        "colab_type": "code",
        "colab": {}
      },
      "source": [
        ""
      ],
      "execution_count": null,
      "outputs": []
    },
    {
      "cell_type": "code",
      "metadata": {
        "id": "VV8CDPOqycer",
        "colab_type": "code",
        "colab": {}
      },
      "source": [
        ""
      ],
      "execution_count": null,
      "outputs": []
    },
    {
      "cell_type": "markdown",
      "metadata": {
        "id": "QUAyDFUTLkV7",
        "colab_type": "text"
      },
      "source": [
        "enter number 5"
      ]
    },
    {
      "cell_type": "code",
      "metadata": {
        "id": "-i3veZ0WLwf9",
        "colab_type": "code",
        "colab": {
          "base_uri": "https://localhost:8080/",
          "height": 118
        },
        "outputId": "38062b17-a6fc-41b9-90cd-c348de88e949"
      },
      "source": [
        "rows = 5\n",
        "for i in range(0, rows + 1):\n",
        "    for j in range(rows - i, 0, -1):\n",
        "        print(j, end=' ')\n",
        "    print()"
      ],
      "execution_count": 1,
      "outputs": [
        {
          "output_type": "stream",
          "text": [
            "5 4 3 2 1 \n",
            "4 3 2 1 \n",
            "3 2 1 \n",
            "2 1 \n",
            "1 \n",
            "\n"
          ],
          "name": "stdout"
        }
      ]
    },
    {
      "cell_type": "markdown",
      "metadata": {
        "id": "iUuyaEpmMNFC",
        "colab_type": "text"
      },
      "source": [
        "enter no 4"
      ]
    },
    {
      "cell_type": "code",
      "metadata": {
        "id": "ySqBgIwnMT2n",
        "colab_type": "code",
        "colab": {
          "base_uri": "https://localhost:8080/",
          "height": 84
        },
        "outputId": "b90a41ea-6ef1-4f36-ced7-b81c3e37fcc0"
      },
      "source": [
        "rows = 4\n",
        "for i in range(0, rows):\n",
        "    for j in range(0, i + 1):\n",
        "        print(\"*\", end=' ')\n",
        "\n",
        "    print(\"\\r\")"
      ],
      "execution_count": 2,
      "outputs": [
        {
          "output_type": "stream",
          "text": [
            "* \r\n",
            "* * \r\n",
            "* * * \r\n",
            "* * * * \r\n"
          ],
          "name": "stdout"
        }
      ]
    },
    {
      "cell_type": "markdown",
      "metadata": {
        "id": "oeDLSZ4AMZrg",
        "colab_type": "text"
      },
      "source": [
        "find the length of string without using len function"
      ]
    },
    {
      "cell_type": "code",
      "metadata": {
        "id": "E3yAeqbeN3fX",
        "colab_type": "code",
        "colab": {
          "base_uri": "https://localhost:8080/",
          "height": 50
        },
        "outputId": "b78483e1-09ac-4722-d65a-9541070f643d"
      },
      "source": [
        "str = input(\"Enter a string: \")\n",
        "counter = 0\n",
        "for s in str:\n",
        "      counter = counter+1\n",
        "print(\"Length of the input string is:\", counter)"
      ],
      "execution_count": 4,
      "outputs": [
        {
          "output_type": "stream",
          "text": [
            "Enter a string: hello\n",
            "Length of the input string is: 5\n"
          ],
          "name": "stdout"
        }
      ]
    },
    {
      "cell_type": "markdown",
      "metadata": {
        "id": "yijBzbM6N_kZ",
        "colab_type": "text"
      },
      "source": [
        "find the no of characters in string"
      ]
    },
    {
      "cell_type": "code",
      "metadata": {
        "id": "bNsgfJccOTdH",
        "colab_type": "code",
        "colab": {
          "base_uri": "https://localhost:8080/",
          "height": 34
        },
        "outputId": "37502b0c-c912-4eb5-8c04-c9c98f4cf9f1"
      },
      "source": [
        "def char_frequency(str1):\n",
        "    dict = {}\n",
        "    for n in str1:\n",
        "        keys = dict.keys()\n",
        "        if n in keys:\n",
        "            dict[n] += 1\n",
        "        else:\n",
        "            dict[n] = 1\n",
        "    return dict\n",
        "print(char_frequency('google.com'))"
      ],
      "execution_count": 5,
      "outputs": [
        {
          "output_type": "stream",
          "text": [
            "{'g': 2, 'o': 3, 'l': 1, 'e': 1, '.': 1, 'c': 1, 'm': 1}\n"
          ],
          "name": "stdout"
        }
      ]
    },
    {
      "cell_type": "markdown",
      "metadata": {
        "id": "EJYjXd_ROX0c",
        "colab_type": "text"
      },
      "source": [
        "no of occurances"
      ]
    },
    {
      "cell_type": "code",
      "metadata": {
        "id": "c_KsJsBpOsoi",
        "colab_type": "code",
        "colab": {
          "base_uri": "https://localhost:8080/",
          "height": 34
        },
        "outputId": "3786c174-f657-47db-ecf1-02811365812c"
      },
      "source": [
        "def word_count(str):\n",
        "    counts = dict()\n",
        "    words = str.split()\n",
        "\n",
        "    for word in words:\n",
        "        if word in counts:\n",
        "            counts[word] += 1\n",
        "        else:\n",
        "            counts[word] = 1\n",
        "\n",
        "    return counts\n",
        "\n",
        "print( word_count('the quick brown fox jumps over the lazy dog.'))\n"
      ],
      "execution_count": 6,
      "outputs": [
        {
          "output_type": "stream",
          "text": [
            "{'the': 2, 'quick': 1, 'brown': 1, 'fox': 1, 'jumps': 1, 'over': 1, 'lazy': 1, 'dog.': 1}\n"
          ],
          "name": "stdout"
        }
      ]
    }
  ]
}