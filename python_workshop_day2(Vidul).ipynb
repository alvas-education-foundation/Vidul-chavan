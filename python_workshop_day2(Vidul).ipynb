{
  "nbformat": 4,
  "nbformat_minor": 0,
  "metadata": {
    "colab": {
      "name": "python workshop day2(Vidul).ipynb",
      "provenance": [],
      "collapsed_sections": [],
      "authorship_tag": "ABX9TyOfZ1xvsIrIaH2O21wd37dV",
      "include_colab_link": true
    },
    "kernelspec": {
      "name": "python3",
      "display_name": "Python 3"
    }
  },
  "cells": [
    {
      "cell_type": "markdown",
      "metadata": {
        "id": "view-in-github",
        "colab_type": "text"
      },
      "source": [
        "<a href=\"https://colab.research.google.com/github/alvas-education-foundation/vidul-chavan/blob/master/python_workshop_day2(Vidul).ipynb\" target=\"_parent\"><img src=\"https://colab.research.google.com/assets/colab-badge.svg\" alt=\"Open In Colab\"/></a>"
      ]
    },
    {
      "cell_type": "code",
      "metadata": {
        "id": "XtKOklXhyGs4",
        "colab_type": "code",
        "colab": {}
      },
      "source": [
        ""
      ],
      "execution_count": null,
      "outputs": []
    },
    {
      "cell_type": "markdown",
      "metadata": {
        "id": "M5HumguyzhlS",
        "colab_type": "text"
      },
      "source": [
        "python program to create a list of tuples with the first element as a number and second element as the square of the number"
      ]
    },
    {
      "cell_type": "code",
      "metadata": {
        "id": "k2Ft-4MKzsfQ",
        "colab_type": "code",
        "colab": {
          "base_uri": "https://localhost:8080/",
          "height": 87
        },
        "outputId": "b45f9b96-f038-45df-8cd2-1dc37e038328"
      },
      "source": [
        "l_range=int(input(\"Enter the lower range:\"))\n",
        "u_range=int(input(\"Enter the upper range:\"))\n",
        "a=[(x,x**2) for x in range(l_range,u_range+1)]\n",
        "print(a)"
      ],
      "execution_count": 1,
      "outputs": [
        {
          "output_type": "stream",
          "text": [
            "Enter the lower range:20\n",
            "Enter the upper range:200\n",
            "[(20, 400), (21, 441), (22, 484), (23, 529), (24, 576), (25, 625), (26, 676), (27, 729), (28, 784), (29, 841), (30, 900), (31, 961), (32, 1024), (33, 1089), (34, 1156), (35, 1225), (36, 1296), (37, 1369), (38, 1444), (39, 1521), (40, 1600), (41, 1681), (42, 1764), (43, 1849), (44, 1936), (45, 2025), (46, 2116), (47, 2209), (48, 2304), (49, 2401), (50, 2500), (51, 2601), (52, 2704), (53, 2809), (54, 2916), (55, 3025), (56, 3136), (57, 3249), (58, 3364), (59, 3481), (60, 3600), (61, 3721), (62, 3844), (63, 3969), (64, 4096), (65, 4225), (66, 4356), (67, 4489), (68, 4624), (69, 4761), (70, 4900), (71, 5041), (72, 5184), (73, 5329), (74, 5476), (75, 5625), (76, 5776), (77, 5929), (78, 6084), (79, 6241), (80, 6400), (81, 6561), (82, 6724), (83, 6889), (84, 7056), (85, 7225), (86, 7396), (87, 7569), (88, 7744), (89, 7921), (90, 8100), (91, 8281), (92, 8464), (93, 8649), (94, 8836), (95, 9025), (96, 9216), (97, 9409), (98, 9604), (99, 9801), (100, 10000), (101, 10201), (102, 10404), (103, 10609), (104, 10816), (105, 11025), (106, 11236), (107, 11449), (108, 11664), (109, 11881), (110, 12100), (111, 12321), (112, 12544), (113, 12769), (114, 12996), (115, 13225), (116, 13456), (117, 13689), (118, 13924), (119, 14161), (120, 14400), (121, 14641), (122, 14884), (123, 15129), (124, 15376), (125, 15625), (126, 15876), (127, 16129), (128, 16384), (129, 16641), (130, 16900), (131, 17161), (132, 17424), (133, 17689), (134, 17956), (135, 18225), (136, 18496), (137, 18769), (138, 19044), (139, 19321), (140, 19600), (141, 19881), (142, 20164), (143, 20449), (144, 20736), (145, 21025), (146, 21316), (147, 21609), (148, 21904), (149, 22201), (150, 22500), (151, 22801), (152, 23104), (153, 23409), (154, 23716), (155, 24025), (156, 24336), (157, 24649), (158, 24964), (159, 25281), (160, 25600), (161, 25921), (162, 26244), (163, 26569), (164, 26896), (165, 27225), (166, 27556), (167, 27889), (168, 28224), (169, 28561), (170, 28900), (171, 29241), (172, 29584), (173, 29929), (174, 30276), (175, 30625), (176, 30976), (177, 31329), (178, 31684), (179, 32041), (180, 32400), (181, 32761), (182, 33124), (183, 33489), (184, 33856), (185, 34225), (186, 34596), (187, 34969), (188, 35344), (189, 35721), (190, 36100), (191, 36481), (192, 36864), (193, 37249), (194, 37636), (195, 38025), (196, 38416), (197, 38809), (198, 39204), (199, 39601), (200, 40000)]\n"
          ],
          "name": "stdout"
        }
      ]
    },
    {
      "cell_type": "markdown",
      "metadata": {
        "id": "MPoQ-d92z72X",
        "colab_type": "text"
      },
      "source": [
        ""
      ]
    },
    {
      "cell_type": "markdown",
      "metadata": {
        "id": "t1gqcNEI0nJj",
        "colab_type": "text"
      },
      "source": [
        "python program to have a list of words to sort them from shortest to longest using list of tuples"
      ]
    },
    {
      "cell_type": "code",
      "metadata": {
        "id": "7ElJiiBK0oN4",
        "colab_type": "code",
        "colab": {
          "base_uri": "https://localhost:8080/",
          "height": 34
        },
        "outputId": "6760b599-22a9-48b1-a312-64bdecd01b2a"
      },
      "source": [
        "# Python program to sort a list of \n",
        "# tuples by the second Item using sort()  \n",
        "  \n",
        "# Function to sort hte list by second item of tuple \n",
        "def Sort_Tuple(tup):  \n",
        "  \n",
        "    # reverse = None (Sorts in Ascending order)  \n",
        "    # key is set to sort using second element of  \n",
        "    # sublist lambda has been used  \n",
        "    tup.sort(key = lambda x: x[1])  \n",
        "    return tup  \n",
        "  \n",
        "# Driver Code  \n",
        "tup = [('rishav', 10), ('akash', 5), ('ram', 20), ('gaurav', 15)]  \n",
        "  \n",
        "# printing the sorted list of tuples \n",
        "print(Sort_Tuple(tup))  "
      ],
      "execution_count": 3,
      "outputs": [
        {
          "output_type": "stream",
          "text": [
            "[('akash', 5), ('rishav', 10), ('gaurav', 15), ('ram', 20)]\n"
          ],
          "name": "stdout"
        }
      ]
    },
    {
      "cell_type": "markdown",
      "metadata": {
        "id": "OhiboGqk03HT",
        "colab_type": "text"
      },
      "source": [
        "python program to find the number of characters in a text file"
      ]
    },
    {
      "cell_type": "code",
      "metadata": {
        "id": "svtJyD0H2QWf",
        "colab_type": "code",
        "colab": {}
      },
      "source": [
        "import collections\n",
        "import pprint\n",
        "file_input = input('File Name: ')\n",
        "with open(file_input, 'r') as info:\n",
        "  count = collections.Counter(info.read().upper())\n",
        "  value = pprint.pformat(count)\n",
        "print(value)\n"
      ],
      "execution_count": null,
      "outputs": []
    },
    {
      "cell_type": "markdown",
      "metadata": {
        "id": "ObERs00I2066",
        "colab_type": "text"
      },
      "source": [
        "program to convert number to words in python"
      ]
    },
    {
      "cell_type": "code",
      "metadata": {
        "id": "uPz1dJtn3hIe",
        "colab_type": "code",
        "colab": {}
      },
      "source": [
        "import inflect.\n",
        "p = inflect. engine()\n",
        "words = p. number_to_words(1234)\n",
        "# Prints “one thousand, two hundred and thirty-four”\n",
        "print(words)\n",
        "words = p. number_to_words(p. ordinal(1234))\n",
        "# Prints “one thousand, two hundred and thirty-forth”\n",
        "print(words)"
      ],
      "execution_count": null,
      "outputs": []
    }
  ]
}